{
 "cells": [
  {
   "cell_type": "markdown",
   "metadata": {},
   "source": [
    "# 3 Counting"
   ]
  },
  {
   "cell_type": "markdown",
   "metadata": {},
   "source": [
    "The python built-in [functions](https://docs.python.org/3.6/library/functions.html) are always available without importing new libraries. In this lecture we will go over some of these functions."
   ]
  },
  {
   "cell_type": "markdown",
   "metadata": {},
   "source": [
    "We can use the `len` function to the size of an object "
   ]
  },
  {
   "cell_type": "code",
   "execution_count": 1,
   "metadata": {},
   "outputs": [
    {
     "name": "stdout",
     "output_type": "stream",
     "text": [
      "2\n"
     ]
    }
   ],
   "source": [
    "# Size of a set\n",
    "NewSet = {1, 2}\n",
    "print(len(NewSet))"
   ]
  },
  {
   "cell_type": "markdown",
   "metadata": {},
   "source": [
    "`min` and `max` returns the smallest element in an object"
   ]
  },
  {
   "cell_type": "code",
   "execution_count": 2,
   "metadata": {},
   "outputs": [
    {
     "name": "stdout",
     "output_type": "stream",
     "text": [
      "-5 9\n"
     ]
    }
   ],
   "source": [
    "NewSet = {-2,-5,9,2, 1, 3}\n",
    "print(min(NewSet),max(NewSet))"
   ]
  },
  {
   "cell_type": "markdown",
   "metadata": {},
   "source": [
    "Not only does these functions work on integers but also on strings. "
   ]
  },
  {
   "cell_type": "code",
   "execution_count": 3,
   "metadata": {},
   "outputs": [
    {
     "name": "stdout",
     "output_type": "stream",
     "text": [
      "a z\n"
     ]
    }
   ],
   "source": [
    "Set = {'c','b','a','z'}\n",
    "print(min(Set),max(Set))"
   ]
  },
  {
   "cell_type": "code",
   "execution_count": 6,
   "metadata": {},
   "outputs": [
    {
     "name": "stdout",
     "output_type": "stream",
     "text": [
      "17\n"
     ]
    }
   ],
   "source": [
    "# Print the sum of elements of a set\n",
    "A = {1, 5, 2, -10, 19}\n",
    "print(sum(A))"
   ]
  },
  {
   "cell_type": "code",
   "execution_count": 7,
   "metadata": {},
   "outputs": [
    {
     "name": "stdout",
     "output_type": "stream",
     "text": [
      "17\n"
     ]
    }
   ],
   "source": [
    "# Verify the above using a 'for' loop\n",
    "total=0\n",
    "for i in A:\n",
    "    total += i\n",
    "print(total)"
   ]
  },
  {
   "cell_type": "markdown",
   "metadata": {},
   "source": [
    "If we want to generate a sequence of $n$ numbers from 0 to $n-1$ we can use the `range` function which returns an immutable object of type range. This feature is commonly used for running a loop for a specific number of times in a `for` loop. "
   ]
  },
  {
   "cell_type": "code",
   "execution_count": 8,
   "metadata": {},
   "outputs": [
    {
     "name": "stdout",
     "output_type": "stream",
     "text": [
      "[0, 1, 2, 3, 4, 5, 6, 7, 8, 9]\n",
      "0\n",
      "1\n",
      "2\n",
      "3\n",
      "4\n",
      "5\n",
      "6\n",
      "7\n",
      "8\n",
      "9\n"
     ]
    }
   ],
   "source": [
    "print(list(range(10)))\n",
    "for i in range(10):\n",
    "    print(i)"
   ]
  },
  {
   "cell_type": "markdown",
   "metadata": {},
   "source": [
    "Say we have a list of students and the respective marks in a subject and we want to view them side by side, one way of doing this would be:"
   ]
  },
  {
   "cell_type": "code",
   "execution_count": 9,
   "metadata": {},
   "outputs": [
    {
     "name": "stdout",
     "output_type": "stream",
     "text": [
      "Harry 83\n",
      "Paul 59\n",
      "Grace 92\n"
     ]
    }
   ],
   "source": [
    "a = [83,59,92]\n",
    "b = ['Harry','Paul','Grace']\n",
    "for i in range(3):\n",
    "    print(b[i],a[i])"
   ]
  },
  {
   "cell_type": "markdown",
   "metadata": {},
   "source": [
    "Rather than indexing each elemet in the list we could use the `zip` function that returns an iterator combing the two lists. More details can be found in the documentation. "
   ]
  },
  {
   "cell_type": "code",
   "execution_count": 10,
   "metadata": {},
   "outputs": [
    {
     "name": "stdout",
     "output_type": "stream",
     "text": [
      "Harry 83\n",
      "Paul 59\n",
      "Grace 92\n"
     ]
    }
   ],
   "source": [
    "for a_i,b_i in zip(a,b):\n",
    "    print(b_i,a_i)"
   ]
  },
  {
   "cell_type": "markdown",
   "metadata": {},
   "source": [
    "Lets say we also want the capability of the indexing different values, which could be implemented as follows:"
   ]
  },
  {
   "cell_type": "code",
   "execution_count": 11,
   "metadata": {},
   "outputs": [
    {
     "name": "stdout",
     "output_type": "stream",
     "text": [
      "0 Harry 83\n",
      "1 Paul 59\n",
      "2 Grace 92\n"
     ]
    }
   ],
   "source": [
    "for i,b_i,a_i in zip(range(len(b)),b,a):\n",
    "    print(i,b_i,a_i)"
   ]
  },
  {
   "cell_type": "markdown",
   "metadata": {},
   "source": [
    "A much cleaner implementation can be done by using the function `enumerate`. This return the index numer and the value of the iterator in each iteration."
   ]
  },
  {
   "cell_type": "code",
   "execution_count": 12,
   "metadata": {},
   "outputs": [
    {
     "name": "stdout",
     "output_type": "stream",
     "text": [
      "0 Harry 83\n",
      "1 Paul 59\n",
      "2 Grace 92\n"
     ]
    }
   ],
   "source": [
    "for i,(b_i,a_i) in enumerate(zip(b,a)):\n",
    "    print(i,b_i,a_i)"
   ]
  },
  {
   "cell_type": "markdown",
   "metadata": {},
   "source": [
    "## 3.1 Disjoint Unions"
   ]
  },
  {
   "cell_type": "code",
   "execution_count": 13,
   "metadata": {
    "scrolled": true
   },
   "outputs": [
    {
     "name": "stdout",
     "output_type": "stream",
     "text": [
      "3 3\n"
     ]
    }
   ],
   "source": [
    "A = {1, 2, 3}\n",
    "B = {1, 3, 5}\n",
    "print(len(A),len(B))"
   ]
  },
  {
   "cell_type": "code",
   "execution_count": 14,
   "metadata": {},
   "outputs": [
    {
     "name": "stdout",
     "output_type": "stream",
     "text": [
      "{1, 3} \n",
      " 2\n"
     ]
    }
   ],
   "source": [
    "# Intersection\n",
    "C = A & B\n",
    "print(C, \"\\n\", len(C))"
   ]
  },
  {
   "cell_type": "code",
   "execution_count": 15,
   "metadata": {},
   "outputs": [
    {
     "name": "stdout",
     "output_type": "stream",
     "text": [
      "{2} \n",
      " 1\n"
     ]
    }
   ],
   "source": [
    "# Difference\n",
    "E = A-B\n",
    "print(E, \"\\n\", len(E))"
   ]
  },
  {
   "cell_type": "markdown",
   "metadata": {},
   "source": [
    "## 3.2 General Unions\n",
    "\n",
    "Calculate size of union in two ways: directly and using inclusion exclusion"
   ]
  },
  {
   "cell_type": "code",
   "execution_count": 16,
   "metadata": {},
   "outputs": [
    {
     "name": "stdout",
     "output_type": "stream",
     "text": [
      "{1, 2, 3, 5} \n",
      " 4 \n",
      " 4\n"
     ]
    }
   ],
   "source": [
    "# Union\n",
    "D = A | B\n",
    "print(D, \"\\n\", len(D) ,\"\\n\", len(A)+len(B)-len(C))"
   ]
  },
  {
   "cell_type": "markdown",
   "metadata": {},
   "source": [
    "## 3.3 Cartesian Products\n",
    "\n",
    "We'll find the cartesian product of two sets $A$ and $B$ and determine $|A\\times B|$ in two ways. First, by counting the number of elements in $A\\times B$, then by simply multiplying $|A|$ by $|B|$. We begin by importing the **itertools** library."
   ]
  },
  {
   "cell_type": "code",
   "execution_count": 17,
   "metadata": {},
   "outputs": [],
   "source": [
    "import itertools"
   ]
  },
  {
   "cell_type": "code",
   "execution_count": 18,
   "metadata": {},
   "outputs": [],
   "source": [
    "A = {1, 2, 3}\n",
    "B = {4, 5}"
   ]
  },
  {
   "cell_type": "markdown",
   "metadata": {},
   "source": [
    "In the previous lecture we saw how we can find the Cartesian products with two for loops, another way to write the same would be: "
   ]
  },
  {
   "cell_type": "code",
   "execution_count": 19,
   "metadata": {},
   "outputs": [
    {
     "name": "stdout",
     "output_type": "stream",
     "text": [
      "Ordered pairs in {1, 2, 3} x {4, 5}:  \n",
      "{(1, 4), (1, 5), (2, 5), (3, 4), (2, 4), (3, 5)}\n"
     ]
    }
   ],
   "source": [
    "cartesian_product = set([(a,b) for a in A for b in B])\n",
    "print(\"Ordered pairs in %s x %s:  \" %(A,B))\n",
    "print(cartesian_product)"
   ]
  },
  {
   "cell_type": "markdown",
   "metadata": {},
   "source": [
    "We can do the same using itertools library"
   ]
  },
  {
   "cell_type": "code",
   "execution_count": 20,
   "metadata": {},
   "outputs": [
    {
     "name": "stdout",
     "output_type": "stream",
     "text": [
      "Ordered pairs in {1, 2, 3} x {4, 5}:  \n",
      "{(1, 4), (1, 5), (2, 5), (3, 4), (2, 4), (3, 5)}\n",
      "Size = 6\n"
     ]
    }
   ],
   "source": [
    "# Print cartesian product A X B and its size\n",
    "cartesian_product = set([i for i in itertools.product(A, B)])\n",
    "print(\"Ordered pairs in %s x %s:  \" %(A,B))\n",
    "print(cartesian_product)\n",
    "print;print(\"Size = %i\" %len(cartesian_product))"
   ]
  },
  {
   "cell_type": "code",
   "execution_count": 21,
   "metadata": {},
   "outputs": [
    {
     "name": "stdout",
     "output_type": "stream",
     "text": [
      "6\n"
     ]
    }
   ],
   "source": [
    "# |A X B| directly\n",
    "print(len(cartesian_product))"
   ]
  },
  {
   "cell_type": "code",
   "execution_count": 22,
   "metadata": {},
   "outputs": [
    {
     "name": "stdout",
     "output_type": "stream",
     "text": [
      "6\n"
     ]
    }
   ],
   "source": [
    "# |A X B| using product rule\n",
    "print(len(A)*len(B))"
   ]
  },
  {
   "cell_type": "markdown",
   "metadata": {},
   "source": [
    "## 3.3 Cartesian Powers"
   ]
  },
  {
   "cell_type": "markdown",
   "metadata": {},
   "source": [
    "We determine the size of $A^k$, the $k$-th cartesian power of $A$ in two ways: calculating $A^k$ and its size, and then via the formula $|A|^k$."
   ]
  },
  {
   "cell_type": "code",
   "execution_count": 23,
   "metadata": {},
   "outputs": [],
   "source": [
    "A = {1, 2, 3}\n",
    "k = 2"
   ]
  },
  {
   "cell_type": "markdown",
   "metadata": {},
   "source": [
    "Expanding on our previous code,we add one more `for` to iterate over the different values of k."
   ]
  },
  {
   "cell_type": "code",
   "execution_count": 24,
   "metadata": {},
   "outputs": [
    {
     "name": "stdout",
     "output_type": "stream",
     "text": [
      "Tuples  in {1, 2, 3}^2: {(1, 2), (3, 2), (1, 3), (3, 3), (3, 1), (2, 1), (2, 3), (2, 2), (1, 1)}\n",
      "Size = 9\n"
     ]
    }
   ],
   "source": [
    "# Initialize every element as a tuple\n",
    "cartesian_powers = [(a,) for a in A]\n",
    "for j in range(k-1):\n",
    "    cartesian_powers = [ i+(a,) for i in cartesian_powers for a in A]\n",
    "\n",
    "print(\"Tuples  in {}^{}: {}\".format(A,k,set(cartesian_powers)))\n",
    "print(\"Size = {}\".format(len(cartesian_powers)))"
   ]
  },
  {
   "cell_type": "markdown",
   "metadata": {},
   "source": [
    "We can repeat the same using `product` function in itertools."
   ]
  },
  {
   "cell_type": "code",
   "execution_count": 25,
   "metadata": {},
   "outputs": [
    {
     "name": "stdout",
     "output_type": "stream",
     "text": [
      "Tuples  in {1, 2, 3}^2: {(1, 2), (3, 2), (1, 3), (3, 3), (3, 1), (2, 1), (2, 3), (2, 2), (1, 1)}\n",
      "Size = 9\n"
     ]
    }
   ],
   "source": [
    "# Print k'th cartesian power of A\n",
    "cartesian_powers = set(itertools.product(A, repeat = k))\n",
    "print(\"Tuples  in {}^{}: {}\".format(A,k,cartesian_powers))\n",
    "print(\"Size = {}\".format(len(cartesian_powers)))"
   ]
  },
  {
   "cell_type": "code",
   "execution_count": 26,
   "metadata": {},
   "outputs": [
    {
     "name": "stdout",
     "output_type": "stream",
     "text": [
      "9\n"
     ]
    }
   ],
   "source": [
    "# Find |A|^k directly\n",
    "print(len(A)**k)"
   ]
  },
  {
   "cell_type": "markdown",
   "metadata": {},
   "source": [
    "Next we calculate and graph the exponential $2^x$ and the polynomials $x$ and $x^2$. Move the slider to see that the exponential grows much faster than the polynomials. Please experiment with different functions to see how fast they grow. To help us generate the data points and plot the graph we import some useful functions."
   ]
  },
  {
   "cell_type": "code",
   "execution_count": 29,
   "metadata": {},
   "outputs": [],
   "source": [
    "import matplotlib.pyplot as plt # A library to plot data points\n",
    "import numpy as np # A library to help easier manipulation of arrays\n",
    "import ipywidgets as widgets # A library for generating sludes for interaction "
   ]
  },
  {
   "cell_type": "code",
   "execution_count": 30,
   "metadata": {},
   "outputs": [
    {
     "data": {
      "image/png": "[encoded data removed]",
      "text/plain": [
       "<Figure size 864x648 with 1 Axes>"
      ]
     },
     "metadata": {
      "needs_background": "light"
     },
     "output_type": "display_data"
    }
   ],
   "source": [
    "@widgets.interact(x_max=(0.5,20.0),continuous_update=False)\n",
    "def f(x_max):\n",
    "    x = np.arange(0, x_max, 0.01)\n",
    "    \n",
    "    plt.figure(figsize=(12,9))\n",
    "    plt.plot(x, x, 'b', linewidth = 3, label = '$x$')\n",
    "    plt.plot(x, x**2, 'r', linewidth = 3, label = '$x^2$')\n",
    "    plt.plot(x, 2**x, 'm', linewidth = 3, label = '$2^x$')\n",
    "    plt.xlabel('x', fontsize = 20)\n",
    "    plt.xticks(fontsize = 18)\n",
    "    plt.yticks(np.linspace(max(2**x_max, x_max**2)/10, max(2**x_max, x_max**2), 10), fontsize = 18)\n",
    "    plt.xlim([0, x_max])\n",
    "    plt.ylim([0, max(2**x_max, x_max**2)])\n",
    "    plt.legend(fontsize = 20)\n",
    "    plt.show()\n",
    "    "
   ]
  },
  {
   "cell_type": "code",
   "execution_count": null,
   "metadata": {},
   "outputs": [],
   "source": []
  }
 ],
 "metadata": {
  "kernelspec": {
   "display_name": "Python 3",
   "language": "python",
   "name": "python3"
  },
  "language_info": {
   "codemirror_mode": {
    "name": "ipython",
    "version": 3
   },
   "file_extension": ".py",
   "mimetype": "text/x-python",
   "name": "python",
   "nbconvert_exporter": "python",
   "pygments_lexer": "ipython3",
   "version": "3.7.5"
  },
  "toc": {
   "base_numbering": 1,
   "nav_menu": {
    "height": "48px",
    "width": "252px"
   },
   "number_sections": true,
   "sideBar": true,
   "skip_h1_title": false,
   "title_cell": "Table of Contents",
   "title_sidebar": "Contents",
   "toc_cell": false,
   "toc_position": {},
   "toc_section_display": "block",
   "toc_window_display": false
  },
  "varInspector": {
   "cols": {
    "lenName": 16,
    "lenType": 16,
    "lenVar": 40
   },
   "kernels_config": {
    "python": {
     "delete_cmd_postfix": "",
     "delete_cmd_prefix": "del ",
     "library": "var_list.py",
     "varRefreshCmd": "print(var_dic_list())"
    },
    "r": {
     "delete_cmd_postfix": ") ",
     "delete_cmd_prefix": "rm(",
     "library": "var_list.r",
     "varRefreshCmd": "cat(var_dic_list()) "
    }
   },
   "types_to_exclude": [
    "module",
    "function",
    "builtin_function_or_method",
    "instance",
    "_Feature"
   ],
   "window_display": false
  }
 },
 "nbformat": 4,
 "nbformat_minor": 4
}
