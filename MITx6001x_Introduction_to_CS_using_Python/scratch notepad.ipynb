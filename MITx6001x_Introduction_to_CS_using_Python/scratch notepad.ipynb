{
 "cells": [
  {
   "cell_type": "code",
   "execution_count": 56,
   "metadata": {},
   "outputs": [],
   "source": [
    "def search(L, e):\n",
    "    for i in range(len(L)):\n",
    "        print(\"step {}\".format(i))\n",
    "        if L[i] == e:\n",
    "            return True\n",
    "        if L[i] > e:\n",
    "            return False\n",
    "    return False\n",
    "\n",
    "def newsearch(L, e):\n",
    "    size = len(L)\n",
    "    for i in range(size):\n",
    "        print(\"step {}\".format(i))\n",
    "        if L[size-i-1] == e:\n",
    "            return True\n",
    "        if L[i] < e:\n",
    "            return False\n",
    "    return False"
   ]
  },
  {
   "cell_type": "code",
   "execution_count": 91,
   "metadata": {},
   "outputs": [
    {
     "data": {
      "text/plain": [
       "[0, 1, 2]"
      ]
     },
     "execution_count": 91,
     "metadata": {},
     "output_type": "execute_result"
    }
   ],
   "source": [
    "l = list(range(3))\n",
    "l"
   ]
  },
  {
   "cell_type": "code",
   "execution_count": 98,
   "metadata": {},
   "outputs": [
    {
     "name": "stdout",
     "output_type": "stream",
     "text": [
      "step 0\n",
      "step 1\n"
     ]
    },
    {
     "data": {
      "text/plain": [
       "True"
      ]
     },
     "execution_count": 98,
     "metadata": {},
     "output_type": "execute_result"
    }
   ],
   "source": [
    "search(l, 1)"
   ]
  },
  {
   "cell_type": "code",
   "execution_count": 99,
   "metadata": {},
   "outputs": [
    {
     "name": "stdout",
     "output_type": "stream",
     "text": [
      "step 0\n"
     ]
    },
    {
     "data": {
      "text/plain": [
       "False"
      ]
     },
     "execution_count": 99,
     "metadata": {},
     "output_type": "execute_result"
    }
   ],
   "source": [
    "newsearch(l, 1)"
   ]
  },
  {
   "cell_type": "markdown",
   "metadata": {},
   "source": [
    "## Swap Sort"
   ]
  },
  {
   "cell_type": "code",
   "execution_count": 106,
   "metadata": {},
   "outputs": [],
   "source": [
    "def swapSort(L): \n",
    "    \"\"\" L is a list on integers \"\"\"\n",
    "    print(\"Original L: \", L)\n",
    "    for i in range(len(L)):\n",
    "        for j in range(i+1, len(L)):\n",
    "            if L[j] < L[i]:\n",
    "                # the next line is a short \n",
    "                # form for swap L[i] and L[j]\n",
    "                L[j], L[i] = L[i], L[j] \n",
    "                print(L)\n",
    "    print(\"Final L: \", L)"
   ]
  },
  {
   "cell_type": "code",
   "execution_count": 107,
   "metadata": {},
   "outputs": [],
   "source": [
    "l2 = [12,23,43,34,1,23,0,7,5,2,4,67]"
   ]
  },
  {
   "cell_type": "code",
   "execution_count": 108,
   "metadata": {},
   "outputs": [
    {
     "name": "stdout",
     "output_type": "stream",
     "text": [
      "Original L:  [12, 23, 43, 34, 1, 23, 0, 7, 5, 2, 4, 67]\n",
      "[1, 23, 43, 34, 12, 23, 0, 7, 5, 2, 4, 67]\n",
      "[0, 23, 43, 34, 12, 23, 1, 7, 5, 2, 4, 67]\n",
      "[0, 12, 43, 34, 23, 23, 1, 7, 5, 2, 4, 67]\n",
      "[0, 1, 43, 34, 23, 23, 12, 7, 5, 2, 4, 67]\n",
      "[0, 1, 34, 43, 23, 23, 12, 7, 5, 2, 4, 67]\n",
      "[0, 1, 23, 43, 34, 23, 12, 7, 5, 2, 4, 67]\n",
      "[0, 1, 12, 43, 34, 23, 23, 7, 5, 2, 4, 67]\n",
      "[0, 1, 7, 43, 34, 23, 23, 12, 5, 2, 4, 67]\n",
      "[0, 1, 5, 43, 34, 23, 23, 12, 7, 2, 4, 67]\n",
      "[0, 1, 2, 43, 34, 23, 23, 12, 7, 5, 4, 67]\n",
      "[0, 1, 2, 34, 43, 23, 23, 12, 7, 5, 4, 67]\n",
      "[0, 1, 2, 23, 43, 34, 23, 12, 7, 5, 4, 67]\n",
      "[0, 1, 2, 12, 43, 34, 23, 23, 7, 5, 4, 67]\n",
      "[0, 1, 2, 7, 43, 34, 23, 23, 12, 5, 4, 67]\n",
      "[0, 1, 2, 5, 43, 34, 23, 23, 12, 7, 4, 67]\n",
      "[0, 1, 2, 4, 43, 34, 23, 23, 12, 7, 5, 67]\n",
      "[0, 1, 2, 4, 34, 43, 23, 23, 12, 7, 5, 67]\n",
      "[0, 1, 2, 4, 23, 43, 34, 23, 12, 7, 5, 67]\n",
      "[0, 1, 2, 4, 12, 43, 34, 23, 23, 7, 5, 67]\n",
      "[0, 1, 2, 4, 7, 43, 34, 23, 23, 12, 5, 67]\n",
      "[0, 1, 2, 4, 5, 43, 34, 23, 23, 12, 7, 67]\n",
      "[0, 1, 2, 4, 5, 34, 43, 23, 23, 12, 7, 67]\n",
      "[0, 1, 2, 4, 5, 23, 43, 34, 23, 12, 7, 67]\n",
      "[0, 1, 2, 4, 5, 12, 43, 34, 23, 23, 7, 67]\n",
      "[0, 1, 2, 4, 5, 7, 43, 34, 23, 23, 12, 67]\n",
      "[0, 1, 2, 4, 5, 7, 34, 43, 23, 23, 12, 67]\n",
      "[0, 1, 2, 4, 5, 7, 23, 43, 34, 23, 12, 67]\n",
      "[0, 1, 2, 4, 5, 7, 12, 43, 34, 23, 23, 67]\n",
      "[0, 1, 2, 4, 5, 7, 12, 34, 43, 23, 23, 67]\n",
      "[0, 1, 2, 4, 5, 7, 12, 23, 43, 34, 23, 67]\n",
      "[0, 1, 2, 4, 5, 7, 12, 23, 34, 43, 23, 67]\n",
      "[0, 1, 2, 4, 5, 7, 12, 23, 23, 43, 34, 67]\n",
      "[0, 1, 2, 4, 5, 7, 12, 23, 23, 34, 43, 67]\n",
      "Final L:  [0, 1, 2, 4, 5, 7, 12, 23, 23, 34, 43, 67]\n"
     ]
    }
   ],
   "source": [
    "swapSort(l2)"
   ]
  },
  {
   "cell_type": "code",
   "execution_count": 110,
   "metadata": {},
   "outputs": [],
   "source": [
    "import pylab as plt"
   ]
  },
  {
   "cell_type": "code",
   "execution_count": 114,
   "metadata": {},
   "outputs": [],
   "source": [
    "mySamples = []\n",
    "myQuadratic = []\n",
    "myCubic = []\n",
    "\n",
    "for i in range (50):\n",
    "    mySamples.append(i)\n",
    "    myQuadratic.append(i**2)\n",
    "    myCubic.append(i**3)"
   ]
  },
  {
   "cell_type": "code",
   "execution_count": 120,
   "metadata": {},
   "outputs": [
    {
     "data": {
      "text/plain": [
       "[<matplotlib.lines.Line2D at 0x1170a8320>]"
      ]
     },
     "execution_count": 120,
     "metadata": {},
     "output_type": "execute_result"
    },
    {
     "data": {
      "image/png": "[encoded data removed]",
      "text/plain": [
       "<Figure size 432x288 with 1 Axes>"
      ]
     },
     "metadata": {
      "needs_background": "light"
     },
     "output_type": "display_data"
    },
    {
     "data": {
      "image/png": "[encoded data removed]",
      "text/plain": [
       "<Figure size 432x288 with 1 Axes>"
      ]
     },
     "metadata": {
      "needs_background": "light"
     },
     "output_type": "display_data"
    }
   ],
   "source": [
    "plt.figure('quatrati')\n",
    "plt.plot(mySamples, myQuadratic)\n",
    "plt.figure('cubic')\n",
    "plt.plot(mySamples, myCubic)"
   ]
  },
  {
   "cell_type": "code",
   "execution_count": null,
   "metadata": {},
   "outputs": [],
   "source": []
  }
 ],
 "metadata": {
  "kernelspec": {
   "display_name": "Python 3",
   "language": "python",
   "name": "python3"
  },
  "language_info": {
   "codemirror_mode": {
    "name": "ipython",
    "version": 3
   },
   "file_extension": ".py",
   "mimetype": "text/x-python",
   "name": "python",
   "nbconvert_exporter": "python",
   "pygments_lexer": "ipython3",
   "version": "3.7.1"
  }
 },
 "nbformat": 4,
 "nbformat_minor": 2
}
