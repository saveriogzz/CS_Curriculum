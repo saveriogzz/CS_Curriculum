{
 "cells": [
  {
   "cell_type": "markdown",
   "metadata": {},
   "source": [
    "## Programming Challenge 1.1- Check brackets in the code"
   ]
  },
  {
   "cell_type": "code",
   "execution_count": 79,
   "metadata": {},
   "outputs": [
    {
     "name": "stdout",
     "output_type": "stream",
     "text": [
      "[]{}()((()))\n",
      "Success\n"
     ]
    }
   ],
   "source": [
    "from collections import namedtuple\n",
    "\n",
    "Bracket = namedtuple(\"Bracket\", [\"char\", \"position\"])\n",
    "\n",
    "\n",
    "def are_matching(left, right):\n",
    "    return (left + right) in [\"()\", \"[]\", \"{}\"]\n",
    "\n",
    "\n",
    "def find_mismatch(text):\n",
    "    opening_brackets_stack = []\n",
    "    for i, next in enumerate(text):\n",
    "        if next in \"([{\":\n",
    "            opening_brackets_stack.append(next)\n",
    "            \n",
    "        if next in \")]}\":\n",
    "            if not opening_brackets_stack:\n",
    "                return True\n",
    "            elif are_matching(opening_brackets_stack[-1], next):\n",
    "                del opening_brackets_stack[-1]\n",
    "                \n",
    "                \n",
    "    return not not opening_brackets_stack\n",
    "\n",
    "\n",
    "def main():\n",
    "    text = input()\n",
    "    mismatch = find_mismatch(text)\n",
    "    # Printing answer, write your code here\n",
    "    if not mismatch:\n",
    "        print('Success')\n",
    "    else:\n",
    "        print('Unsuccess')\n",
    "if __name__ == \"__main__\":\n",
    "    main()\n"
   ]
  },
  {
   "cell_type": "markdown",
   "metadata": {},
   "source": [
    "## Programming Challenge 1.2 - Tree height"
   ]
  },
  {
   "cell_type": "code",
   "execution_count": 40,
   "metadata": {},
   "outputs": [
    {
     "name": "stderr",
     "output_type": "stream",
     "text": [
      "Exception in thread Thread-5:\n",
      "Traceback (most recent call last):\n",
      "  File \"/anaconda3/lib/python3.7/threading.py\", line 917, in _bootstrap_inner\n",
      "    self.run()\n",
      "  File \"/anaconda3/lib/python3.7/threading.py\", line 865, in run\n",
      "    self._target(*self._args, **self._kwargs)\n",
      "  File \"<ipython-input-40-696783b1c252>\", line 29, in main\n",
      "    tree.read()\n",
      "  File \"<ipython-input-40-696783b1c252>\", line 9, in read\n",
      "    self.n = int(sys.stdin.readline())\n",
      "ValueError: invalid literal for int() with base 10: ''\n",
      "\n"
     ]
    }
   ],
   "source": [
    "# python3\n",
    "\n",
    "import sys, threading\n",
    "sys.setrecursionlimit(10**7) # max depth of recursion\n",
    "threading.stack_size(2**27)  # new thread will get stack of such size\n",
    "\n",
    "class TreeHeight:\n",
    "        def read(self):\n",
    "                self.n = int(sys.stdin.readline())\n",
    "                self.parent = list(map(int, sys.stdin.readline().split()))\n",
    "\n",
    "        #def compute_height(self):\n",
    "                # Replace this code with a faster implementation\n",
    "                # maxHeight = 0\n",
    "                # for vertex in range(self.n):\n",
    "                #         height = 0\n",
    "                #         i = vertex\n",
    "                #         while i != -1:\n",
    "                #                 height += 1\n",
    "                #                 i = self.parent[i]\n",
    "                #         maxHeight = max(maxHeight, height)\n",
    "                # return maxHeight\n",
    "         #       if self.n == 0: return 0\n",
    "         #       else:\n",
    "                    \n",
    "\n",
    "def main():\n",
    "  tree = TreeHeight()\n",
    "  tree.read()\n",
    "  print(tree.compute_height())\n",
    "\n",
    "threading.Thread(target=main).start()\n"
   ]
  },
  {
   "cell_type": "code",
   "execution_count": 1,
   "metadata": {},
   "outputs": [
    {
     "name": "stdout",
     "output_type": "stream",
     "text": [
      "\n"
     ]
    },
    {
     "name": "stderr",
     "output_type": "stream",
     "text": [
      "Exception in thread Thread-4:\n",
      "Traceback (most recent call last):\n",
      "  File \"/anaconda3/lib/python3.7/threading.py\", line 917, in _bootstrap_inner\n",
      "    self.run()\n",
      "  File \"/anaconda3/lib/python3.7/threading.py\", line 865, in run\n",
      "    self._target(*self._args, **self._kwargs)\n",
      "  File \"<ipython-input-1-ca6a5f224327>\", line 21, in main\n",
      "    n = int(input())\n",
      "ValueError: invalid literal for int() with base 10: ''\n",
      "\n"
     ]
    }
   ],
   "source": [
    "# python3\n",
    "\n",
    "import sys\n",
    "import threading\n",
    "\n",
    "'''\n",
    "def compute_height(n, parents):\n",
    "    # Replace this code with a faster implementation\n",
    "    max_height = 0\n",
    "    for vertex in range(n):\n",
    "        height = 0\n",
    "        current = vertex\n",
    "        while current != -1:\n",
    "            height += 1\n",
    "            current = parents[current]\n",
    "        max_height = max(max_height, height)\n",
    "    return max_height\n",
    "'''\n",
    "\n",
    "def compute_height(n, parents):\n",
    "    if n == 0:\n",
    "        return None\n",
    "    else:\n",
    "        return 1\n",
    "    \n",
    "\n",
    "def main():\n",
    "    n = int(input())\n",
    "    parents = list(map(int, input().split()))\n",
    "    print(compute_height(n, parents))\n",
    "\n",
    "\n",
    "# In Python, the default limit on recursion depth is rather low,\n",
    "# so raise it here for this problem. Note that to take advantage\n",
    "# of bigger stack, we have to launch the computation in a new thread.\n",
    "sys.setrecursionlimit(10**7)  # max depth of recursion\n",
    "threading.stack_size(2**27)   # new thread will get stack of such size\n",
    "threading.Thread(target=main).start()\n"
   ]
  },
  {
   "cell_type": "code",
   "execution_count": 41,
   "metadata": {},
   "outputs": [
    {
     "data": {
      "text/plain": [
       "[1, 2, 3]"
      ]
     },
     "execution_count": 41,
     "metadata": {},
     "output_type": "execute_result"
    }
   ],
   "source": [
    "trymap1 = list(map(int, ['1','2', '3']))\n",
    "trymap1"
   ]
  },
  {
   "cell_type": "code",
   "execution_count": 45,
   "metadata": {},
   "outputs": [
    {
     "data": {
      "text/plain": [
       "[]"
      ]
     },
     "execution_count": 45,
     "metadata": {},
     "output_type": "execute_result"
    }
   ],
   "source": [
    "import sys\n",
    "sys.stdin.readline().split()"
   ]
  },
  {
   "cell_type": "code",
   "execution_count": 47,
   "metadata": {},
   "outputs": [],
   "source": [
    "input = sys.stdin.read()"
   ]
  },
  {
   "cell_type": "code",
   "execution_count": null,
   "metadata": {},
   "outputs": [],
   "source": []
  }
 ],
 "metadata": {
  "kernelspec": {
   "display_name": "Python 3",
   "language": "python",
   "name": "python3"
  },
  "language_info": {
   "codemirror_mode": {
    "name": "ipython",
    "version": 3
   },
   "file_extension": ".py",
   "mimetype": "text/x-python",
   "name": "python",
   "nbconvert_exporter": "python",
   "pygments_lexer": "ipython3",
   "version": "3.7.1"
  }
 },
 "nbformat": 4,
 "nbformat_minor": 2
}
