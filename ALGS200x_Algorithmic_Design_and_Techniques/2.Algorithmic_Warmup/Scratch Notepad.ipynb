{
 "cells": [
  {
   "cell_type": "markdown",
   "metadata": {},
   "source": [
    "### Programming Challenge 2-5"
   ]
  },
  {
   "cell_type": "code",
   "execution_count": 54,
   "metadata": {},
   "outputs": [],
   "source": [
    "def get_fibonacci_huge(n, m):\n",
    "    \n",
    "#     d = {0:0, 1:1}\n",
    "#     def fib(n):\n",
    "#         if n in d: return d[n]\n",
    "#         else:\n",
    "#             d[n] = (fib(n-1) + fib(n-2)) % m\n",
    "#             return d[n]\n",
    "\n",
    "    def fib(n, m):\n",
    "        if n < 2: return n\n",
    "\n",
    "        results = [1, 1]\n",
    "        for _ in range(n - 2):\n",
    "            results.append((results[-1] + results[-2]) % m)\n",
    "\n",
    "        return results[-1]\n",
    "        \n",
    "    def pisano_period(m):\n",
    "        \"\"\"\n",
    "        This returns the Pisano period\n",
    "        relative to the divisor 'm'.\n",
    "        \"\"\"\n",
    "        previous = 1\n",
    "        current = 1\n",
    "\n",
    "        result = 1\n",
    "        while not (previous == 0 and current == 1):\n",
    "            previous, current = current, (previous + current) % m\n",
    "            result += 1\n",
    "\n",
    "        return result\n",
    "    \n",
    "    \n",
    "    return fib(n % pisano_period(m), m)"
   ]
  },
  {
   "cell_type": "code",
   "execution_count": 55,
   "metadata": {},
   "outputs": [
    {
     "data": {
      "text/plain": [
       "75"
      ]
     },
     "execution_count": 55,
     "metadata": {},
     "output_type": "execute_result"
    }
   ],
   "source": [
    "get_fibonacci_huge(1000,100)"
   ]
  },
  {
   "cell_type": "code",
   "execution_count": 11,
   "metadata": {},
   "outputs": [],
   "source": [
    "def fib(n):\n",
    "    if n < 2: return n\n",
    "\n",
    "    results = [1, 1]\n",
    "    for _ in range(n - 2):\n",
    "        results.append((results[-1] + results[-2]))\n",
    "\n",
    "    return results[-1]"
   ]
  },
  {
   "cell_type": "code",
   "execution_count": 12,
   "metadata": {},
   "outputs": [
    {
     "name": "stdout",
     "output_type": "stream",
     "text": [
      "0\n",
      "1\n",
      "1\n",
      "2\n",
      "3\n",
      "5\n",
      "8\n",
      "13\n",
      "21\n",
      "34\n",
      "55\n",
      "89\n",
      "144\n",
      "233\n",
      "377\n",
      "610\n",
      "987\n",
      "1597\n",
      "2584\n",
      "4181\n"
     ]
    }
   ],
   "source": [
    "for _ in range(20):\n",
    "    print(fib(_))"
   ]
  },
  {
   "cell_type": "code",
   "execution_count": 23,
   "metadata": {},
   "outputs": [
    {
     "name": "stdout",
     "output_type": "stream",
     "text": [
      "9999999999999999 100000\n",
      "90626\n"
     ]
    }
   ],
   "source": [
    "\"\"\"\n",
    "Calculate Fibonacci modulo m\n",
    "author: Manny egalli64@gmail.com\n",
    "info: http://thisthread.blogspot.com/2018/02/fibonacci-modulo-with-pisano-period.html\n",
    "      https://www.edx.org/course/algorithmic-design-techniques-uc-san-diegox-algs200x\n",
    "Smarter solution w/ Pisano\n",
    "\"\"\"\n",
    "\n",
    "\n",
    "def pisano(modulo):\n",
    "    previous = 1\n",
    "    current = 1\n",
    "\n",
    "    result = 1\n",
    "    while not (previous == 0 and current == 1):\n",
    "        buffer = (previous + current) % modulo\n",
    "        previous = current\n",
    "        current = buffer\n",
    "\n",
    "        result += 1\n",
    "\n",
    "    return result\n",
    "\n",
    "\n",
    "def fibonacci(number, modulo):\n",
    "    if number < 2:\n",
    "        return number\n",
    "\n",
    "    results = [1, 1]\n",
    "    for _ in range(number - 2):\n",
    "        results.append((results[-1] + results[-2]) % modulo)\n",
    "\n",
    "    return results[-1]\n",
    "\n",
    "\n",
    "def solution(number, modulo):\n",
    "    return fibonacci(number % pisano(modulo), modulo)\n",
    "\n",
    "\n",
    "if __name__ == '__main__':\n",
    "    n, m = map(int, input().split())\n",
    "    print(solution(n, m))"
   ]
  },
  {
   "cell_type": "code",
   "execution_count": 99,
   "metadata": {},
   "outputs": [],
   "source": [
    "# Absolutely wrong and naive solutions!!\n",
    "\n",
    "def pisano(m):\n",
    "        if m == 1: return m\n",
    "        elif m == 2: return m + 1\n",
    "        elif m == 3: return 2*(m+1)\n",
    "        else:\n",
    "            if m % 2 == 0: return 4*(m + 1)\n",
    "            else: return 4*(m)\n",
    "            \n",
    "def pisano(m):\n",
    "        if m == 1: return m\n",
    "        elif m == 2: return m + 1\n",
    "        else:\n",
    "            if m % 2 == 0: return 4*(m + 1)\n",
    "            else: return 2*(m+1)"
   ]
  },
  {
   "cell_type": "code",
   "execution_count": 7,
   "metadata": {},
   "outputs": [],
   "source": [
    "d = {0:0, 1:1}\n",
    "def fib(n):\n",
    "    if n in d: return d[n]\n",
    "    else:\n",
    "        d[n] = fib(n-1) + fib(n-2)\n",
    "        return d[n]"
   ]
  },
  {
   "cell_type": "code",
   "execution_count": 9,
   "metadata": {},
   "outputs": [
    {
     "name": "stdout",
     "output_type": "stream",
     "text": [
      "0, 1, 1, 2, 3, 5, 8, 13, 21, 34, 55, 89, 144, 233, 377, 610, 987, 1597, 2584, 4181, 6765, 10946, 17711, 28657, 46368, 75025, 121393, 196418, 317811, 514229, 832040, 1346269, 2178309, 3524578, 5702887, 9227465, 14930352, 24157817, 39088169, 63245986, 102334155, 165580141, 267914296, 433494437, 701408733, 1134903170, 1836311903, 2971215073, 4807526976, 7778742049, "
     ]
    }
   ],
   "source": [
    "for i in range(50):\n",
    "    print(fib(i), end = \", \")"
   ]
  },
  {
   "cell_type": "code",
   "execution_count": null,
   "metadata": {},
   "outputs": [],
   "source": []
  }
 ],
 "metadata": {
  "kernelspec": {
   "display_name": "Python 3",
   "language": "python",
   "name": "python3"
  },
  "language_info": {
   "codemirror_mode": {
    "name": "ipython",
    "version": 3
   },
   "file_extension": ".py",
   "mimetype": "text/x-python",
   "name": "python",
   "nbconvert_exporter": "python",
   "pygments_lexer": "ipython3",
   "version": "3.7.1"
  }
 },
 "nbformat": 4,
 "nbformat_minor": 2
}
