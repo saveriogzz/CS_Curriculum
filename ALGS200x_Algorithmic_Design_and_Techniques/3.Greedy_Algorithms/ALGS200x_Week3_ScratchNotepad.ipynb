{
 "cells": [
  {
   "cell_type": "markdown",
   "metadata": {},
   "source": [
    "### Programming Challenge 3-2"
   ]
  },
  {
   "cell_type": "code",
   "execution_count": 75,
   "metadata": {},
   "outputs": [],
   "source": [
    "n, capacity = 3, 50\n",
    "values = [60, 100, 120]\n",
    "weights = [20, 50, 30]"
   ]
  },
  {
   "cell_type": "code",
   "execution_count": 76,
   "metadata": {},
   "outputs": [
    {
     "name": "stdout",
     "output_type": "stream",
     "text": [
      "60 20\n",
      "100 50\n",
      "120 30\n"
     ]
    },
    {
     "data": {
      "text/plain": [
       "[3.0, 2.0, 4.0]"
      ]
     },
     "execution_count": 76,
     "metadata": {},
     "output_type": "execute_result"
    }
   ],
   "source": [
    "for v, w in zip(values, weights):\n",
    "    print(v,w)\n",
    "    \n",
    "density = [v/w for v,w in zip(values, weights)]\n",
    "density"
   ]
  },
  {
   "cell_type": "code",
   "execution_count": 101,
   "metadata": {},
   "outputs": [
    {
     "data": {
      "text/plain": [
       "[(120, 30, 4.0), (60, 20, 3.0), (100, 50, 2.0)]"
      ]
     },
     "execution_count": 101,
     "metadata": {},
     "output_type": "execute_result"
    }
   ],
   "source": [
    "loot = []\n",
    "for index in range(len(values)):\n",
    "    loot.append((values[index], weights[index], density[index]))\n",
    "    \n",
    "loot_ord = sorted(loot, key = lambda l: l[2], reverse = True)\n",
    "loot_ord"
   ]
  },
  {
   "cell_type": "code",
   "execution_count": 134,
   "metadata": {},
   "outputs": [],
   "source": [
    "# Uses python3\n",
    "import sys\n",
    "\n",
    "def get_optimal_value(capacity, weights, values):\n",
    "    \n",
    "    def get_loot_ordered(weights, values):\n",
    "        '''Returns a list of tuples made by value,\n",
    "        weight and density of the item; ordered by density.'''\n",
    "        \n",
    "        loot = []\n",
    "        densities = [v/w for v,w in zip(values, weights)]\n",
    "\n",
    "        for index in range(len(values)):\n",
    "            loot.append((values[index], weights[index], densities[index]))\n",
    "\n",
    "        return sorted(loot, key = lambda l: l[2], reverse = True)\n",
    "    \n",
    "    opt_value = 0.\n",
    "    \n",
    "    loot_ord = get_loot_ordered(values, weights)\n",
    "\n",
    "    for item in loot_ord:\n",
    "        if capacity == 0: return opt_value\n",
    "        \n",
    "        a = min(capacity, item[1])\n",
    "        opt_value += a*(item[2])\n",
    "        capacity -= a\n",
    "        \n",
    "\n",
    "    return opt_value\n",
    "\n",
    "\n",
    "# if __name__ == \"__main__\":\n",
    "#     data = list(map(int, sys.stdin.read().split()))\n",
    "#     n, capacity = data[0:2]\n",
    "#     values = data[2:(2 * n + 2):2]\n",
    "#     weights = data[3:(2 * n + 2):2]\n",
    "#     opt_value = get_optimal_value(capacity, weights, values)\n",
    "#     print(\"{:.10f}\".format(opt_value))\n"
   ]
  },
  {
   "cell_type": "code",
   "execution_count": 135,
   "metadata": {},
   "outputs": [],
   "source": [
    "capacity = 10\n",
    "values = [500]\n",
    "weights = [30]"
   ]
  },
  {
   "cell_type": "code",
   "execution_count": 136,
   "metadata": {},
   "outputs": [
    {
     "data": {
      "text/plain": [
       "166.66666666666669"
      ]
     },
     "execution_count": 136,
     "metadata": {},
     "output_type": "execute_result"
    }
   ],
   "source": [
    "get_optimal_value(capacity, values, weights)"
   ]
  },
  {
   "cell_type": "code",
   "execution_count": null,
   "metadata": {},
   "outputs": [],
   "source": []
  }
 ],
 "metadata": {
  "kernelspec": {
   "display_name": "Python 3",
   "language": "python",
   "name": "python3"
  },
  "language_info": {
   "codemirror_mode": {
    "name": "ipython",
    "version": 3
   },
   "file_extension": ".py",
   "mimetype": "text/x-python",
   "name": "python",
   "nbconvert_exporter": "python",
   "pygments_lexer": "ipython3",
   "version": "3.7.1"
  }
 },
 "nbformat": 4,
 "nbformat_minor": 2
}
