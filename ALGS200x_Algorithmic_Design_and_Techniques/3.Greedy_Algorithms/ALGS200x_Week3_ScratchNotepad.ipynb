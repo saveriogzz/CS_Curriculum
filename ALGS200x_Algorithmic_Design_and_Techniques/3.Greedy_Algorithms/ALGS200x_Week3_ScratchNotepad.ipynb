{
 "cells": [
  {
   "cell_type": "markdown",
   "metadata": {},
   "source": [
    "### Programming Challenge 3-2"
   ]
  },
  {
   "cell_type": "code",
   "execution_count": null,
   "metadata": {},
   "outputs": [],
   "source": [
    "# Uses python3\n",
    "import sys\n",
    "\n",
    "def get_optimal_value(capacity, weights, values):\n",
    "    \n",
    "    #scoprire perche qui devo invertirli, mentre nel grader di edX no.\n",
    "    def get_loot_ordered(weights, values):\n",
    "        '''Returns a list of tuples made by value,\n",
    "        weight and density of the item; ordered by density.'''\n",
    "        \n",
    "        loot = []\n",
    "        densities = [v/w for v,w in zip(values, weights)]\n",
    "\n",
    "        for index in range(len(values)):\n",
    "            loot.append((values[index], weights[index], densities[index]))\n",
    "\n",
    "        return sorted(loot, key = lambda l: l[2], reverse = True)\n",
    "    \n",
    "    opt_value = 0.\n",
    "    \n",
    "    loot_ord = get_loot_ordered(values, weights)\n",
    "\n",
    "    for item in loot_ord:\n",
    "        if capacity == 0: return opt_value\n",
    "        \n",
    "        a = min(capacity, item[1])\n",
    "        opt_value += a*(item[2])\n",
    "        capacity -= a\n",
    "        \n",
    "\n",
    "    return opt_value\n",
    "\n",
    "\n",
    "if __name__ == \"__main__\":\n",
    "    data = list(map(int, sys.stdin.read().split()))\n",
    "    n, capacity = data[0:2]\n",
    "    values = data[2:(2 * n + 2):2]\n",
    "    weights = data[3:(2 * n + 2):2]\n",
    "    opt_value = get_optimal_value(capacity, weights, values)\n",
    "    print(\"{:.10f}\".format(opt_value))\n"
   ]
  },
  {
   "cell_type": "markdown",
   "metadata": {},
   "source": [
    "### Programming Challenge 3-3"
   ]
  },
  {
   "cell_type": "code",
   "execution_count": null,
   "metadata": {},
   "outputs": [],
   "source": [
    "import sys\n",
    "\n",
    "def max_dotproduct(a, b):\n",
    "    a.sort()\n",
    "    b.sort()\n",
    "    \n",
    "    return sum([x * y for x,y in zip(a, b)])\n",
    "\n",
    "\n",
    "if __name__ == '__main__':\n",
    "    data = list(map(int, sys.stdin.read().split()))\n",
    "    n = data[0]\n",
    "    profits = data[1:(n + 1):1]\n",
    "    clicks = data[(n + 1)::1]\n",
    "    \n",
    "    print(max_dotproduct(profits, clicks))"
   ]
  },
  {
   "cell_type": "markdown",
   "metadata": {},
   "source": [
    "### Programming Challenge 3-4"
   ]
  },
  {
   "cell_type": "code",
   "execution_count": null,
   "metadata": {},
   "outputs": [],
   "source": [
    "i = iter(a)\n",
    "list(zip(i,i))"
   ]
  },
  {
   "cell_type": "code",
   "execution_count": 121,
   "metadata": {},
   "outputs": [
    {
     "data": {
      "text/plain": [
       "[(1, 3), (2, 5), (3, 6)]"
      ]
     },
     "execution_count": 121,
     "metadata": {},
     "output_type": "execute_result"
    }
   ],
   "source": [
    "a = [1, 3, 2, 5, 3, 6]\n",
    "b = [(a[2*i], a[2*i + 1]) for i in range(len(a)//2)]\n",
    "b"
   ]
  },
  {
   "cell_type": "code",
   "execution_count": 122,
   "metadata": {},
   "outputs": [],
   "source": [
    "import intervals as I\n",
    "\n",
    "interval1 = I.closed(b[0][0], b[0][1])\n",
    "interval2 = I.closed(b[1][0], b[1][1])\n",
    "interval3 = I.closed(b[2][0], b[2][1])"
   ]
  },
  {
   "cell_type": "code",
   "execution_count": 123,
   "metadata": {},
   "outputs": [],
   "source": [
    "intervals = []\n",
    "intervals.append(interval1)\n",
    "intervals.append(interval2)\n",
    "intervals.append(interval3)"
   ]
  },
  {
   "cell_type": "code",
   "execution_count": 124,
   "metadata": {},
   "outputs": [
    {
     "data": {
      "text/plain": [
       "[[1,3], [2,5], [3,6]]"
      ]
     },
     "execution_count": 124,
     "metadata": {},
     "output_type": "execute_result"
    }
   ],
   "source": [
    "intervals"
   ]
  },
  {
   "cell_type": "code",
   "execution_count": 125,
   "metadata": {},
   "outputs": [],
   "source": [
    "visit = 3\n",
    "for interval in intervals[:]:\n",
    "    if (3 in interval):\n",
    "        intervals.remove(interval)"
   ]
  },
  {
   "cell_type": "code",
   "execution_count": 126,
   "metadata": {},
   "outputs": [
    {
     "data": {
      "text/plain": [
       "[]"
      ]
     },
     "execution_count": 126,
     "metadata": {},
     "output_type": "execute_result"
    }
   ],
   "source": [
    "intervals"
   ]
  },
  {
   "cell_type": "code",
   "execution_count": null,
   "metadata": {},
   "outputs": [],
   "source": []
  }
 ],
 "metadata": {
  "kernelspec": {
   "display_name": "Python 3",
   "language": "python",
   "name": "python3"
  },
  "language_info": {
   "codemirror_mode": {
    "name": "ipython",
    "version": 3
   },
   "file_extension": ".py",
   "mimetype": "text/x-python",
   "name": "python",
   "nbconvert_exporter": "python",
   "pygments_lexer": "ipython3",
   "version": "3.7.1"
  }
 },
 "nbformat": 4,
 "nbformat_minor": 2
}
